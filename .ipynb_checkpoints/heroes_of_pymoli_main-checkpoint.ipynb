{
 "cells": [
  {
   "cell_type": "markdown",
   "metadata": {},
   "source": [
    "### Heroes Of Pymoli Data Analysis\n",
    "* Of the 1163 active players, the vast majority are male (84%). There also exists, a smaller, but notable proportion of female players (14%).\n",
    "\n",
    "* Our peak age demographic falls between 20-24 (44.8%) with secondary groups falling between 15-19 (18.60%) and 25-29 (13.4%).  \n",
    "-----"
   ]
  },
  {
   "cell_type": "markdown",
   "metadata": {},
   "source": [
    "### Note\n",
    "* Instructions have been included for each segment. You do not have to follow them exactly, but they are included to help you think through the steps."
   ]
  },
  {
   "cell_type": "code",
   "execution_count": null,
   "metadata": {
    "scrolled": true
   },
   "outputs": [],
   "source": [
    "# Dependencies and Setup\n",
    "import pandas as pd\n",
    "import numpy as np\n",
    "import os\n",
    "import csv\n",
    "\n",
    "# File to Load (Remember to Change These)\n",
    "file_to_load = \"Resources/purchase_data.csv\"\n",
    "\n",
    "\n",
    "# Read Purchasing File and store into Pandas data frame\n",
    "df = pd.read_csv(file_to_load)\n",
    "df.head()\n",
    "\n"
   ]
  },
  {
   "cell_type": "markdown",
   "metadata": {},
   "source": [
    "## Player Count"
   ]
  },
  {
   "cell_type": "markdown",
   "metadata": {},
   "source": [
    "* Display the total number of players\n"
   ]
  },
  {
   "cell_type": "code",
   "execution_count": null,
   "metadata": {},
   "outputs": [],
   "source": [
    "Total_players = len(df[\"SN\"].unique())\n",
    "\n",
    "# create a data frame with total_players count \n",
    "\n",
    "player_count = pd.DataFrame({\"Total players\":Total_players},index = [0])\n",
    "player_count"
   ]
  },
  {
   "cell_type": "markdown",
   "metadata": {},
   "source": [
    "## Purchasing Analysis (Total)"
   ]
  },
  {
   "cell_type": "markdown",
   "metadata": {},
   "source": [
    "* Run basic calculations to obtain number of unique items, average price, etc.\n",
    "\n",
    "\n",
    "* Create a summary data frame to hold the results\n",
    "\n",
    "\n",
    "* Optional: give the displayed data cleaner formatting\n",
    "\n",
    "\n",
    "* Display the summary data frame\n"
   ]
  },
  {
   "cell_type": "code",
   "execution_count": null,
   "metadata": {},
   "outputs": [],
   "source": [
    "# Purchasing Analysis (Total) #\n",
    "\n",
    "# calculate the count of unique items \n",
    "unique_items_count = len(df[\"Item ID\"].unique())\n",
    "\n",
    "# calculate the average price of the purchase \n",
    "average_price = df[\"Price\"].mean()\n",
    "\n",
    "# caluclate the total number of purchases made \n",
    "number_purchases = df[\"Purchase ID\"].count()\n",
    "\n",
    "# calculate the total revenue\n",
    "total_revenue = df[\"Price\"].sum()\n",
    "\n",
    "\n",
    "# Clean Formating as Summary \n",
    "\n",
    "Purchasing_Analysis = pd.DataFrame({\"Number of unique items\":unique_items_count,\"Average Price\":average_price,\n",
    "                                    \"Number of Purchases\":number_purchases,\"Total Revenue\":total_revenue}, index=[0])\n",
    "Purchasing_Analysis[\"Average Price\"] = Purchasing_Analysis[\"Average Price\"].map(\"${:.2f}\".format)\n",
    "Purchasing_Analysis[\"Total Revenue\"] = Purchasing_Analysis[\"Total Revenue\"].map(\"${:,.2f}\".format)\n",
    "Purchasing_Analysis\n"
   ]
  },
  {
   "cell_type": "markdown",
   "metadata": {},
   "source": [
    "## Gender Demographics"
   ]
  },
  {
   "cell_type": "markdown",
   "metadata": {},
   "source": [
    "* Percentage and Count of Male Players\n",
    "\n",
    "\n",
    "* Percentage and Count of Female Players\n",
    "\n",
    "\n",
    "* Percentage and Count of Other / Non-Disclosed\n",
    "\n",
    "\n"
   ]
  },
  {
   "cell_type": "code",
   "execution_count": null,
   "metadata": {},
   "outputs": [],
   "source": [
    "# Gender Demographics #\n",
    "\n",
    "gender_grouped = df.groupby(\"Gender\")\n",
    "unique_members = gender_grouped[\"SN\"].nunique()\n",
    "percentage_of_players = (unique_members/Total_players)*100\n",
    "\n",
    "# Data frame with summary gender data\n",
    "\n",
    "gender_summary = pd.DataFrame({\"Percentage of Players\": percentage_of_players,\"Total Counts\": unique_members})\n",
    "\n",
    "gender_summary[\"Percentage of Players\"] = gender_summary[\"Percentage of Players\"].map(\"{:.2f}\".format)\n",
    "\n",
    "gender_summary\n",
    "\n"
   ]
  },
  {
   "cell_type": "markdown",
   "metadata": {},
   "source": [
    "\n",
    "## Purchasing Analysis (Gender)"
   ]
  },
  {
   "cell_type": "markdown",
   "metadata": {},
   "source": [
    "* Run basic calculations to obtain purchase count, avg. purchase price, avg. purchase total per person etc. by gender\n",
    "\n",
    "\n",
    "\n",
    "\n",
    "* Create a summary data frame to hold the results\n",
    "\n",
    "\n",
    "* Optional: give the displayed data cleaner formatting\n",
    "\n",
    "\n",
    "* Display the summary data frame"
   ]
  },
  {
   "cell_type": "code",
   "execution_count": null,
   "metadata": {},
   "outputs": [],
   "source": [
    "# Purchasing Analysis(Gender)\n",
    "\n",
    "# Groupby on gender and calculations to obtain purchase count, avg. purchase price, avg. purchase total per person \n",
    "\n",
    "gender_grouped = df.groupby(\"Gender\")\n",
    "purchase_count = gender_grouped[\"Age\"].count()\n",
    "avg_purchase = gender_grouped[\"Price\"].mean()\n",
    "total_purchase_value = gender_grouped[\"Price\"].sum()\n",
    "avg_purchase_person =(gender_grouped[\"Price\"].sum()/unique_members)\n",
    "\n",
    "\n",
    "# Summary DataFrame to hold results \n",
    "\n",
    "summary_df = pd.DataFrame({\"Purchase count\":purchase_count,\"Average Purchase Price\":avg_purchase,\n",
    "                           \"Total Purchase value\":total_purchase_value,\"Average Purchase Total per person\":avg_purchase_person})\n",
    "# Clean Formatting \n",
    "summary_df[\"Average Purchase Price\"] = summary_df[\"Average Purchase Price\"].map(\"${:.2f}\".format)\n",
    "summary_df[\"Total Purchase value\"]  = summary_df[\"Total Purchase value\"].map(\"${:,.2f}\".format)\n",
    "summary_df[\"Average Purchase Total per person\"] = summary_df[\"Average Purchase Total per person\"].map(\"${:.2f}\".format)\n",
    "summary_df.head()\n"
   ]
  },
  {
   "cell_type": "markdown",
   "metadata": {},
   "source": [
    "## Age Demographics"
   ]
  },
  {
   "cell_type": "code",
   "execution_count": null,
   "metadata": {},
   "outputs": [],
   "source": [
    "# Age Demographics\n",
    "\n",
    "# Establish bins for ages and create labels \n",
    "\n",
    "age_bins = [0, 9.90, 14.90, 19.90, 24.90, 29.90, 34.90, 39.90, 99999]\n",
    "group_names = [\"<10\", \"10-14\", \"15-19\", \"20-24\", \"25-29\", \"30-34\", \"35-39\", \"40+\"]\n",
    "\n",
    "# slice the data using pd.cut and  Categorize the existing players based on age_bins  \n",
    "df[\"Age Group\"] = pd.cut(df[\"Age\"],age_bins, labels=group_names)\n",
    "df\n",
    "\n",
    "# do a groupby on Age Group \n",
    "age_grouped = df.groupby(\"Age Group\")\n",
    "\n",
    "#calculate total count and percenatge of players by age category\n",
    "unique_members = age_grouped[\"SN\"].nunique()\n",
    "Percent_of_players = (unique_members/Total_players)*100\n",
    "\n",
    "# create a DataFrame to hold the above results \n",
    "age_demographics = pd.DataFrame({\"Percentage of players\":Percent_of_players,\"Total count\":unique_members})\n",
    "\n",
    "# change the index to none and do clean formatting \n",
    "age_demographics.index.name = None\n",
    "age_demographics[\"Percentage of players\"] = age_demographics[\"Percentage of players\"].map(\"{:.2f}\".format)\n",
    "age_demographics\n",
    "\n",
    "# Displaying Age Demographics table #"
   ]
  },
  {
   "cell_type": "markdown",
   "metadata": {},
   "source": [
    "## Purchasing Analysis (Age)"
   ]
  },
  {
   "cell_type": "markdown",
   "metadata": {},
   "source": [
    "* Bin the purchase_data data frame by age\n",
    "\n",
    "\n",
    "* Run basic calculations to obtain purchase count, avg. purchase price, avg. purchase total per person etc. in the table below\n",
    "\n",
    "\n",
    "* Create a summary data frame to hold the results\n",
    "\n",
    "\n",
    "* Optional: give the displayed data cleaner formatting\n",
    "\n",
    "\n",
    "* Display the summary data frame"
   ]
  },
  {
   "cell_type": "code",
   "execution_count": null,
   "metadata": {},
   "outputs": [],
   "source": [
    "# Purchasing Analysis(Age)\n",
    "\n",
    "purchase_count = age_grouped[\"Age\"].count()\n",
    "avg_purchase = age_grouped[\"Price\"].mean()\n",
    "total_purchase_value = age_grouped[\"Price\"].sum()\n",
    "avg_purchase_person =(age_grouped[\"Price\"].sum()/unique_members)\n",
    "\n",
    "# create a DataFrame to hold the above results \n",
    "Purchase_analysis_age = pd.DataFrame({\"Purchase count\":purchase_count,\"Average Purchase Price\":avg_purchase,\n",
    "                           \"Total Purchase value\":total_purchase_value,\"Average Purchase Total per person\":avg_purchase_person})\n",
    "\n",
    "Purchase_analysis_age \n",
    "\n"
   ]
  },
  {
   "cell_type": "code",
   "execution_count": null,
   "metadata": {},
   "outputs": [],
   "source": [
    "# Purchasing Analysis(Age)\n",
    "\n",
    "\n",
    "# doing a clean formatting \n",
    "\n",
    "Purchase_analysis_age[\"Average Purchase Price\"] = Purchase_analysis_age[\"Average Purchase Price\"].map(\"${:.2f}\".format)\n",
    "Purchase_analysis_age[\"Total Purchase value\"]  = Purchase_analysis_age[\"Total Purchase value\"].map(\"${:,.2f}\".format)\n",
    "Purchase_analysis_age[\"Average Purchase Total per person\"] = Purchase_analysis_age[\"Average Purchase Total per person\"].map(\"${:.2f}\".format)\n",
    "Purchase_analysis_age\n",
    "\n"
   ]
  },
  {
   "cell_type": "markdown",
   "metadata": {},
   "source": [
    "## Top Spenders"
   ]
  },
  {
   "cell_type": "markdown",
   "metadata": {},
   "source": [
    "* Run basic calculations to obtain the results in the table below\n",
    "\n",
    "\n",
    "* Create a summary data frame to hold the results\n",
    "\n",
    "\n",
    "* Sort the total purchase value column in descending order\n",
    "\n",
    "\n",
    "* Optional: give the displayed data cleaner formatting\n",
    "\n",
    "\n",
    "* Display a preview of the summary data frame\n",
    "\n"
   ]
  },
  {
   "cell_type": "code",
   "execution_count": null,
   "metadata": {},
   "outputs": [],
   "source": [
    "# Top Spenders \n",
    "\n",
    "# do a groupby on (SN-Screen Name) and assign it to a variable \n",
    "SN_grouped = df.groupby(\"SN\")\n",
    "\n",
    "# do calculations to obtain purchase count, avg. purchase price, total purchase value \n",
    "purchase_count = SN_grouped[\"Age\"].count()\n",
    "avg_purchase = SN_grouped[\"Price\"].mean()\n",
    "total_purchase_value = SN_grouped[\"Price\"].sum()\n",
    "\n",
    "# create a DataFrame to hold the results \n",
    "Top_spenders = pd.DataFrame({\"Purchase count\":purchase_count,\"Average Purchase Price\":avg_purchase,\n",
    "                           \"Total Purchase value\":total_purchase_value})\n",
    "\n",
    "# Sort the total purchase value column in descending order \n",
    "Top_spenders = Top_spenders.sort_values(\"Total Purchase value\", ascending = False)\n",
    "\n",
    "# do a clean formatting \n",
    "Top_spenders[\"Average Purchase Price\"] = Top_spenders[\"Average Purchase Price\"].map(\"${:.2f}\".format)\n",
    "Top_spenders[\"Total Purchase value\"]  = Top_spenders[\"Total Purchase value\"].map(\"${:,.2f}\".format)\n",
    "\n",
    "# display the above results(Top Spenders sumamry table )\n",
    "\n",
    "Top_spenders.head()\n",
    "\n"
   ]
  },
  {
   "cell_type": "code",
   "execution_count": null,
   "metadata": {},
   "outputs": [],
   "source": []
  },
  {
   "cell_type": "markdown",
   "metadata": {},
   "source": [
    "## Most Popular Items"
   ]
  },
  {
   "cell_type": "markdown",
   "metadata": {},
   "source": [
    "* Retrieve the Item ID, Item Name, and Item Price columns\n",
    "\n",
    "\n",
    "* Group by Item ID and Item Name. Perform calculations to obtain purchase count, item price, and total purchase value\n",
    "\n",
    "\n",
    "* Create a summary data frame to hold the results\n",
    "\n",
    "\n",
    "* Sort the purchase count column in descending order\n",
    "\n",
    "\n",
    "* Optional: give the displayed data cleaner formatting\n",
    "\n",
    "\n",
    "* Display a preview of the summary data frame\n",
    "\n"
   ]
  },
  {
   "cell_type": "code",
   "execution_count": null,
   "metadata": {},
   "outputs": [],
   "source": [
    "#Most Popular Items\n",
    "\n",
    "# Retrieve the Item ID, Item Name, and Item Price columns (using .loc)  \n",
    "popular_df = df.loc[:,[\"Item ID\",\"Item Name\",\"Price\"]]\n",
    "\n",
    "# Group by Item ID and Item Name. \n",
    "popular_grouped = df.groupby([\"Item ID\",\"Item Name\"])\n",
    "\n",
    "# Perform calculations to obtain purchase count, item price, and total purchase value\n",
    "purchase_count = popular_grouped[\"Age\"].count()\n",
    "avg_purchase = popular_grouped[\"Price\"].mean()\n",
    "total_purchase_value = popular_grouped[\"Price\"].sum()\n",
    "\n",
    "# create a DataFrame to hold the results \n",
    "most_popular_items = pd.DataFrame({\"Purchase count\":purchase_count,\"Average Purchase Price\":avg_purchase,\n",
    "                                   \"Total Purchase value\":total_purchase_value})\n",
    "\n",
    "# Sort the purchase count  column in descending order \n",
    "most_popular_items = most_popular_items.sort_values(\"Purchase count\", ascending = False)\n",
    "\n",
    "# do a clean formatting \n",
    "most_popular_items[\"Total Purchase value\"]  = most_popular_items[\"Total Purchase value\"].map(\"${:,.2f}\".format)\n",
    "most_popular_items[\"Average Purchase Price\"] = most_popular_items[\"Average Purchase Price\"].map(\"${:.2f}\".format)\n",
    "\n",
    "\n",
    "# display the Most Popular Items summary table \n",
    "most_popular_items.head()"
   ]
  },
  {
   "cell_type": "markdown",
   "metadata": {},
   "source": [
    "## Most Profitable Items"
   ]
  },
  {
   "cell_type": "markdown",
   "metadata": {},
   "source": [
    "* Sort the above table by total purchase value in descending order\n",
    "\n",
    "\n",
    "* Optional: give the displayed data cleaner formatting\n",
    "\n",
    "\n",
    "* Display a preview of the data frame\n",
    "\n"
   ]
  },
  {
   "cell_type": "code",
   "execution_count": null,
   "metadata": {},
   "outputs": [],
   "source": [
    "# Most Profitable Items\n",
    "\n",
    "# Group by Item ID and Item Name. \n",
    "\n",
    "popular_grouped = df.groupby([\"Item ID\",\"Item Name\"])\n",
    "\n",
    "# Perform calculations to obtain purchase count, item price, and total purchase value\n",
    "\n",
    "purchase_count = popular_grouped[\"Age\"].count()\n",
    "avg_purchase = popular_grouped[\"Price\"].mean()\n",
    "total_purchase_value = popular_grouped[\"Price\"].sum()\n",
    "\n",
    "# create a DataFrame to hold the results \n",
    "\n",
    "most_popular_items = pd.DataFrame({\"Purchase count\":purchase_count,\"Average Purchase Price\":avg_purchase,\n",
    "                                   \"Total Purchase value\":total_purchase_value})\n",
    "\n",
    "\n",
    "# Sort the  total purchase value column in descending order \n",
    "\n",
    "most_popular_items = most_popular_items.sort_values(\"Total Purchase value\", ascending = False)\n",
    "most_popular_items[\"Total Purchase value\"]  = most_popular_items[\"Total Purchase value\"].map(\"${:,.2f}\".format)\n",
    "most_popular_items[\"Average Purchase Price\"] = most_popular_items[\"Average Purchase Price\"].map(\"${:.2f}\".format)\n",
    "\n",
    "# display the Most Profitable Items summary table \n",
    "\n",
    "most_popular_items.head()\n"
   ]
  },
  {
   "cell_type": "code",
   "execution_count": null,
   "metadata": {},
   "outputs": [],
   "source": []
  },
  {
   "cell_type": "code",
   "execution_count": null,
   "metadata": {},
   "outputs": [],
   "source": []
  }
 ],
 "metadata": {
  "anaconda-cloud": {},
  "kernel_info": {
   "name": "python3"
  },
  "kernelspec": {
   "display_name": "Python 3",
   "language": "python",
   "name": "python3"
  },
  "language_info": {
   "codemirror_mode": {
    "name": "ipython",
    "version": 3
   },
   "file_extension": ".py",
   "mimetype": "text/x-python",
   "name": "python",
   "nbconvert_exporter": "python",
   "pygments_lexer": "ipython3",
   "version": "3.6.4"
  },
  "nteract": {
   "version": "0.2.0"
  }
 },
 "nbformat": 4,
 "nbformat_minor": 2
}
